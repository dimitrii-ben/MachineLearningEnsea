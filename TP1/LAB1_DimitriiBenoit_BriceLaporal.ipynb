{
 "cells": [
  {
   "cell_type": "markdown",
   "metadata": {},
   "source": [
    "**QUESTION 1**\n",
    "\n",
    "What is triggering the output display?\n",
    "\n",
    "The print is triggering the output display. Or in a jupernb you can directly display the ouput value of the last line\n",
    "\n",
    "**TO DO 1.2**\n",
    "\n",
    "Execute the following cells ...\n",
    "\n",
    "**QUESTION 2**\n",
    "\n",
    "What is displayed on the last output?\n",
    "\n",
    "Which is the used Python version?\n",
    "\n",
    "**the python version used is : **3.8.3****\n",
    "\n",
    "\n",
    "**QUESTION 3**\n",
    "\n",
    "How would you solve this error?\n",
    "\n",
    "**To solve this error we need to import the modules either by using import.. or __import() function**\n",
    "\n",
    "## STEP 2: Data manipulation and visualization\n",
    "\n",
    "**TO DO 2.1**\n",
    "\n",
    "Execute the following cell\n"
   ]
  },
  {
   "cell_type": "code",
   "execution_count": 2,
   "metadata": {},
   "outputs": [
    {
     "name": "stdout",
     "output_type": "stream",
     "text": [
      "<class 'pandas.core.frame.DataFrame'>\n",
      "Index: 1649 entries, 0 to 2937\n",
      "Data columns (total 22 columns):\n",
      " #   Column                           Non-Null Count  Dtype  \n",
      "---  ------                           --------------  -----  \n",
      " 0   Country                          1649 non-null   object \n",
      " 1   Year                             1649 non-null   int64  \n",
      " 2   Status                           1649 non-null   object \n",
      " 3   Life_expectancy                  1649 non-null   float64\n",
      " 4   Adult_mortality                  1649 non-null   float64\n",
      " 5   Infant_deaths                    1649 non-null   int64  \n",
      " 6   Alcohol                          1649 non-null   float64\n",
      " 7   Percentage_expenditure           1649 non-null   float64\n",
      " 8   Hepatitis_B                      1649 non-null   float64\n",
      " 9   Measles                          1649 non-null   int64  \n",
      " 10  BMI                              1649 non-null   float64\n",
      " 11  Under-five_deaths                1649 non-null   int64  \n",
      " 12  Polio                            1649 non-null   float64\n",
      " 13  Total_expenditure                1649 non-null   float64\n",
      " 14  Diphtheria                       1649 non-null   float64\n",
      " 15  HIV_AIDS                         1649 non-null   float64\n",
      " 16  GDP                              1649 non-null   float64\n",
      " 17  Population                       1649 non-null   float64\n",
      " 18  Thinness _1-19_years             1649 non-null   float64\n",
      " 19  Thinness_5-9_years               1649 non-null   float64\n",
      " 20  Income_composition_of_resources  1649 non-null   float64\n",
      " 21  Schooling                        1649 non-null   float64\n",
      "dtypes: float64(16), int64(4), object(2)\n",
      "memory usage: 296.3+ KB\n"
     ]
    }
   ],
   "source": [
    "import pandas as pd\n",
    "import matplotlib.pyplot as plt\n",
    "\n",
    "df = pd.read_csv(\"../data/Life_Expectancy_Data.csv\")\n",
    "df = df.dropna()\n",
    "df.info()"
   ]
  },
  {
   "cell_type": "markdown",
   "metadata": {},
   "source": [
    "**QUESTION 4**\n",
    "\n",
    "Can you explain the different elements printed on the last output?\n",
    "\n",
    "**These elements are the info of the dataset showing non nulls value because we did dropna()**"
   ]
  },
  {
   "cell_type": "code",
   "execution_count": 3,
   "metadata": {},
   "outputs": [
    {
     "name": "stdout",
     "output_type": "stream",
     "text": [
      "df1:      Country  Year      Status  Life_expectancy  Adult_mortality  \\\n",
      "931  France  2014  Developing             82.2             79.0   \n",
      "932  France  2013  Developing             82.0             81.0   \n",
      "933  France  2012  Developing             81.5             83.0   \n",
      "934  France  2011  Developing             81.7             83.0   \n",
      "\n",
      "     Infant_deaths  Alcohol  Percentage_expenditure  Hepatitis_B  Measles  \\\n",
      "931              3     11.5             6739.677606         83.0      267   \n",
      "932              3     11.1             6646.953935         74.0      272   \n",
      "933              3     11.5              751.379355         78.0        0   \n",
      "934              3     11.8              683.919057         74.0    14949   \n",
      "\n",
      "     ...  Polio  Total_expenditure  Diphtheria  HIV_AIDS          GDP  \\\n",
      "931  ...   98.0              11.54        98.0       0.1  42955.24287   \n",
      "932  ...   99.0              11.56        99.0       0.1  42554.12250   \n",
      "933  ...   99.0              11.44        99.0       0.1   4838.24440   \n",
      "934  ...   99.0              11.33        99.0       0.1   4381.28800   \n",
      "\n",
      "     Population  Thinness _1-19_years  Thinness_5-9_years  \\\n",
      "931  66331957.0                   0.6                 0.6   \n",
      "932   6599857.0                   0.6                 0.6   \n",
      "933   6565979.0                   0.6                 0.6   \n",
      "934  65342776.0                   0.6                 0.6   \n",
      "\n",
      "     Income_composition_of_resources  Schooling  \n",
      "931                            0.890       16.2  \n",
      "932                            0.887       16.2  \n",
      "933                            0.885       16.1  \n",
      "934                            0.882       16.1  \n",
      "\n",
      "[4 rows x 22 columns]\n",
      "df2:  931    2014\n",
      "932    2013\n",
      "933    2012\n",
      "934    2011\n",
      "935    2010\n",
      "936    2009\n",
      "937    2008\n",
      "938    2007\n",
      "939    2006\n",
      "940    2005\n",
      "941    2004\n",
      "942    2003\n",
      "943    2002\n",
      "944    2001\n",
      "945    2000\n",
      "Name: Year, dtype: int64\n"
     ]
    }
   ],
   "source": [
    "df1 = df[(df.Country == \"France\") & (df.Year > 2010)]\n",
    "print(\"df1: \", df1)\n",
    "df2 = df[(df.Country == \"France\")].Year\n",
    "print(\"df2: \", df2)"
   ]
  },
  {
   "cell_type": "markdown",
   "metadata": {},
   "source": [
    "**QUESTION 5**\n",
    "\n",
    "How do you interpret the new Data Frame df1 compared to df? What represents df2 compared to df1?\n",
    "\n",
    "**df1/df : df1 is only the informations about France since 2010, in contrary to df that represent the entire df**\n",
    "\n",
    "**df2/df1 : df2 contains only the year when the France data was registred**\n",
    "\n",
    "**TO CODE 2.2**\n",
    "\n",
    "What is the range of life expectancy of Belgium between 2004 and 2008?"
   ]
  },
  {
   "cell_type": "code",
   "execution_count": 4,
   "metadata": {},
   "outputs": [
    {
     "name": "stdout",
     "output_type": "stream",
     "text": [
      "The range of the life expectancy of Belgium between 2004 and 2008 is :[78.9,79.5]\n"
     ]
    }
   ],
   "source": [
    "df3 = df[(df.Country == \"Belgium\") & (df.Year > 2004) & (df.Year <2008)]\n",
    "a = str(df3[\"Life_expectancy\"].min())\n",
    "b = df3[\"Life_expectancy\"].max()\n",
    "print(\"The range of the life expectancy of Belgium between 2004 and 2008 is :[\"+str(df3[\"Life_expectancy\"].min())+\",\"+str(df3[\"Life_expectancy\"].max())+\"]\")\n"
   ]
  },
  {
   "cell_type": "markdown",
   "metadata": {},
   "source": [
    "**TO DO 2.3**\n",
    "\n",
    "Compute the correlation among all features"
   ]
  },
  {
   "cell_type": "code",
   "execution_count": 5,
   "metadata": {},
   "outputs": [
    {
     "data": {
      "text/plain": [
       "Year                               0.050771\n",
       "Life_expectancy                    0.000000\n",
       "Adult_mortality                   -0.702523\n",
       "Infant_deaths                     -0.169074\n",
       "Alcohol                            0.402718\n",
       "Percentage_expenditure             0.409631\n",
       "Hepatitis_B                        0.199935\n",
       "Measles                           -0.068881\n",
       "BMI                                0.542042\n",
       "Under-five_deaths                 -0.192265\n",
       "Polio                              0.327294\n",
       "Total_expenditure                  0.174718\n",
       "Diphtheria                         0.341331\n",
       "HIV_AIDS                          -0.592236\n",
       "GDP                                0.441322\n",
       "Population                        -0.022305\n",
       "Thinness _1-19_years              -0.457838\n",
       "Thinness_5-9_years                -0.457508\n",
       "Income_composition_of_resources    0.721083\n",
       "Schooling                          0.727630\n",
       "Name: Life_expectancy, dtype: float64"
      ]
     },
     "execution_count": 5,
     "metadata": {},
     "output_type": "execute_result"
    }
   ],
   "source": [
    "correlation = df.corr(numeric_only=1)['Life_expectancy'].replace(1,0)\n",
    "#print(correlation[correlation == abs(correlation).max()])\n",
    "correlation"
   ]
  },
  {
   "cell_type": "markdown",
   "metadata": {},
   "source": [
    "**QUESTION 6**\n",
    "\n",
    "Which seems the most and the least promising values to use as a predictor for life expectancy?\n",
    "\n",
    "**The best attribute is schooling if we take the max absolute value**\n",
    "\n",
    "**TO CODE 2.4**\n",
    "\n",
    "Plot life expectancy against one of your chosen values."
   ]
  },
  {
   "cell_type": "code",
   "execution_count": 7,
   "metadata": {},
   "outputs": [
    {
     "data": {
      "text/plain": [
       "<matplotlib.collections.PathCollection at 0x7f3cc8f3d2b0>"
      ]
     },
     "execution_count": 7,
     "metadata": {},
     "output_type": "execute_result"
    },
    {
     "data": {
      "image/png": "[encoded data removed]",
      "text/plain": [
       "<Figure size 640x480 with 1 Axes>"
      ]
     },
     "metadata": {},
     "output_type": "display_data"
    }
   ],
   "source": [
    "plt.scatter(df['Schooling'],df['Life_expectancy'])\n"
   ]
  },
  {
   "cell_type": "markdown",
   "metadata": {},
   "source": [
    "## STEP 3: Simple Linear Regression\n",
    "\n",
    "**TO CODE 3.1**\n",
    "\n",
    "Select the Life Expectancy and the Income composition of resources of Belarus, Madagascar, India and Lithuania. This new Data Frame will be called df_study"
   ]
  },
  {
   "cell_type": "code",
   "execution_count": 8,
   "metadata": {},
   "outputs": [
    {
     "data": {
      "text/html": [
       "<div>\n",
       "<style scoped>\n",
       "    .dataframe tbody tr th:only-of-type {\n",
       "        vertical-align: middle;\n",
       "    }\n",
       "\n",
       "    .dataframe tbody tr th {\n",
       "        vertical-align: top;\n",
       "    }\n",
       "\n",
       "    .dataframe thead th {\n",
       "        text-align: right;\n",
       "    }\n",
       "</style>\n",
       "<table border=\"1\" class=\"dataframe\">\n",
       "  <thead>\n",
       "    <tr style=\"text-align: right;\">\n",
       "      <th></th>\n",
       "      <th>Country</th>\n",
       "      <th>Life_expectancy</th>\n",
       "      <th>Income_composition_of_resources</th>\n",
       "    </tr>\n",
       "  </thead>\n",
       "  <tbody>\n",
       "    <tr>\n",
       "      <th>225</th>\n",
       "      <td>Belarus</td>\n",
       "      <td>72.0</td>\n",
       "      <td>0.796</td>\n",
       "    </tr>\n",
       "    <tr>\n",
       "      <th>226</th>\n",
       "      <td>Belarus</td>\n",
       "      <td>71.7</td>\n",
       "      <td>0.796</td>\n",
       "    </tr>\n",
       "    <tr>\n",
       "      <th>227</th>\n",
       "      <td>Belarus</td>\n",
       "      <td>71.9</td>\n",
       "      <td>0.793</td>\n",
       "    </tr>\n",
       "    <tr>\n",
       "      <th>228</th>\n",
       "      <td>Belarus</td>\n",
       "      <td>72.0</td>\n",
       "      <td>0.787</td>\n",
       "    </tr>\n",
       "    <tr>\n",
       "      <th>229</th>\n",
       "      <td>Belarus</td>\n",
       "      <td>73.0</td>\n",
       "      <td>0.780</td>\n",
       "    </tr>\n",
       "    <tr>\n",
       "      <th>230</th>\n",
       "      <td>Belarus</td>\n",
       "      <td>70.0</td>\n",
       "      <td>0.771</td>\n",
       "    </tr>\n",
       "    <tr>\n",
       "      <th>231</th>\n",
       "      <td>Belarus</td>\n",
       "      <td>70.0</td>\n",
       "      <td>0.755</td>\n",
       "    </tr>\n",
       "    <tr>\n",
       "      <th>232</th>\n",
       "      <td>Belarus</td>\n",
       "      <td>69.8</td>\n",
       "      <td>0.739</td>\n",
       "    </tr>\n",
       "    <tr>\n",
       "      <th>233</th>\n",
       "      <td>Belarus</td>\n",
       "      <td>68.9</td>\n",
       "      <td>0.723</td>\n",
       "    </tr>\n",
       "    <tr>\n",
       "      <th>234</th>\n",
       "      <td>Belarus</td>\n",
       "      <td>68.1</td>\n",
       "      <td>0.713</td>\n",
       "    </tr>\n",
       "    <tr>\n",
       "      <th>235</th>\n",
       "      <td>Belarus</td>\n",
       "      <td>68.2</td>\n",
       "      <td>0.703</td>\n",
       "    </tr>\n",
       "    <tr>\n",
       "      <th>236</th>\n",
       "      <td>Belarus</td>\n",
       "      <td>67.7</td>\n",
       "      <td>0.695</td>\n",
       "    </tr>\n",
       "    <tr>\n",
       "      <th>237</th>\n",
       "      <td>Belarus</td>\n",
       "      <td>67.2</td>\n",
       "      <td>0.687</td>\n",
       "    </tr>\n",
       "    <tr>\n",
       "      <th>238</th>\n",
       "      <td>Belarus</td>\n",
       "      <td>67.7</td>\n",
       "      <td>0.681</td>\n",
       "    </tr>\n",
       "    <tr>\n",
       "      <th>239</th>\n",
       "      <td>Belarus</td>\n",
       "      <td>68.0</td>\n",
       "      <td>0.675</td>\n",
       "    </tr>\n",
       "    <tr>\n",
       "      <th>1187</th>\n",
       "      <td>India</td>\n",
       "      <td>68.0</td>\n",
       "      <td>0.607</td>\n",
       "    </tr>\n",
       "    <tr>\n",
       "      <th>1188</th>\n",
       "      <td>India</td>\n",
       "      <td>67.6</td>\n",
       "      <td>0.599</td>\n",
       "    </tr>\n",
       "    <tr>\n",
       "      <th>1189</th>\n",
       "      <td>India</td>\n",
       "      <td>67.3</td>\n",
       "      <td>0.590</td>\n",
       "    </tr>\n",
       "    <tr>\n",
       "      <th>1190</th>\n",
       "      <td>India</td>\n",
       "      <td>66.8</td>\n",
       "      <td>0.580</td>\n",
       "    </tr>\n",
       "    <tr>\n",
       "      <th>1191</th>\n",
       "      <td>India</td>\n",
       "      <td>66.4</td>\n",
       "      <td>0.569</td>\n",
       "    </tr>\n",
       "    <tr>\n",
       "      <th>1192</th>\n",
       "      <td>India</td>\n",
       "      <td>66.0</td>\n",
       "      <td>0.563</td>\n",
       "    </tr>\n",
       "    <tr>\n",
       "      <th>1193</th>\n",
       "      <td>India</td>\n",
       "      <td>65.5</td>\n",
       "      <td>0.556</td>\n",
       "    </tr>\n",
       "    <tr>\n",
       "      <th>1194</th>\n",
       "      <td>India</td>\n",
       "      <td>65.2</td>\n",
       "      <td>0.546</td>\n",
       "    </tr>\n",
       "    <tr>\n",
       "      <th>1195</th>\n",
       "      <td>India</td>\n",
       "      <td>64.8</td>\n",
       "      <td>0.536</td>\n",
       "    </tr>\n",
       "    <tr>\n",
       "      <th>1196</th>\n",
       "      <td>India</td>\n",
       "      <td>64.4</td>\n",
       "      <td>0.526</td>\n",
       "    </tr>\n",
       "    <tr>\n",
       "      <th>1197</th>\n",
       "      <td>India</td>\n",
       "      <td>64.0</td>\n",
       "      <td>0.518</td>\n",
       "    </tr>\n",
       "    <tr>\n",
       "      <th>1523</th>\n",
       "      <td>Lithuania</td>\n",
       "      <td>73.4</td>\n",
       "      <td>0.841</td>\n",
       "    </tr>\n",
       "    <tr>\n",
       "      <th>1524</th>\n",
       "      <td>Lithuania</td>\n",
       "      <td>73.0</td>\n",
       "      <td>0.834</td>\n",
       "    </tr>\n",
       "    <tr>\n",
       "      <th>1525</th>\n",
       "      <td>Lithuania</td>\n",
       "      <td>73.0</td>\n",
       "      <td>0.830</td>\n",
       "    </tr>\n",
       "    <tr>\n",
       "      <th>1526</th>\n",
       "      <td>Lithuania</td>\n",
       "      <td>72.8</td>\n",
       "      <td>0.826</td>\n",
       "    </tr>\n",
       "    <tr>\n",
       "      <th>1527</th>\n",
       "      <td>Lithuania</td>\n",
       "      <td>72.4</td>\n",
       "      <td>0.824</td>\n",
       "    </tr>\n",
       "    <tr>\n",
       "      <th>1528</th>\n",
       "      <td>Lithuania</td>\n",
       "      <td>72.2</td>\n",
       "      <td>0.825</td>\n",
       "    </tr>\n",
       "    <tr>\n",
       "      <th>1529</th>\n",
       "      <td>Lithuania</td>\n",
       "      <td>71.1</td>\n",
       "      <td>0.820</td>\n",
       "    </tr>\n",
       "    <tr>\n",
       "      <th>1530</th>\n",
       "      <td>Lithuania</td>\n",
       "      <td>72.0</td>\n",
       "      <td>0.812</td>\n",
       "    </tr>\n",
       "    <tr>\n",
       "      <th>1531</th>\n",
       "      <td>Lithuania</td>\n",
       "      <td>76.0</td>\n",
       "      <td>0.807</td>\n",
       "    </tr>\n",
       "    <tr>\n",
       "      <th>1532</th>\n",
       "      <td>Lithuania</td>\n",
       "      <td>78.0</td>\n",
       "      <td>0.798</td>\n",
       "    </tr>\n",
       "    <tr>\n",
       "      <th>1533</th>\n",
       "      <td>Lithuania</td>\n",
       "      <td>71.6</td>\n",
       "      <td>0.792</td>\n",
       "    </tr>\n",
       "    <tr>\n",
       "      <th>1534</th>\n",
       "      <td>Lithuania</td>\n",
       "      <td>71.6</td>\n",
       "      <td>0.780</td>\n",
       "    </tr>\n",
       "    <tr>\n",
       "      <th>1535</th>\n",
       "      <td>Lithuania</td>\n",
       "      <td>71.4</td>\n",
       "      <td>0.770</td>\n",
       "    </tr>\n",
       "    <tr>\n",
       "      <th>1536</th>\n",
       "      <td>Lithuania</td>\n",
       "      <td>71.2</td>\n",
       "      <td>0.757</td>\n",
       "    </tr>\n",
       "    <tr>\n",
       "      <th>1537</th>\n",
       "      <td>Lithuania</td>\n",
       "      <td>71.6</td>\n",
       "      <td>0.745</td>\n",
       "    </tr>\n",
       "    <tr>\n",
       "      <th>1555</th>\n",
       "      <td>Madagascar</td>\n",
       "      <td>65.1</td>\n",
       "      <td>0.509</td>\n",
       "    </tr>\n",
       "    <tr>\n",
       "      <th>1556</th>\n",
       "      <td>Madagascar</td>\n",
       "      <td>64.7</td>\n",
       "      <td>0.508</td>\n",
       "    </tr>\n",
       "    <tr>\n",
       "      <th>1557</th>\n",
       "      <td>Madagascar</td>\n",
       "      <td>64.3</td>\n",
       "      <td>0.506</td>\n",
       "    </tr>\n",
       "    <tr>\n",
       "      <th>1558</th>\n",
       "      <td>Madagascar</td>\n",
       "      <td>63.8</td>\n",
       "      <td>0.504</td>\n",
       "    </tr>\n",
       "    <tr>\n",
       "      <th>1559</th>\n",
       "      <td>Madagascar</td>\n",
       "      <td>63.3</td>\n",
       "      <td>0.503</td>\n",
       "    </tr>\n",
       "    <tr>\n",
       "      <th>1560</th>\n",
       "      <td>Madagascar</td>\n",
       "      <td>62.8</td>\n",
       "      <td>0.500</td>\n",
       "    </tr>\n",
       "    <tr>\n",
       "      <th>1561</th>\n",
       "      <td>Madagascar</td>\n",
       "      <td>62.3</td>\n",
       "      <td>0.491</td>\n",
       "    </tr>\n",
       "    <tr>\n",
       "      <th>1562</th>\n",
       "      <td>Madagascar</td>\n",
       "      <td>61.9</td>\n",
       "      <td>0.483</td>\n",
       "    </tr>\n",
       "    <tr>\n",
       "      <th>1563</th>\n",
       "      <td>Madagascar</td>\n",
       "      <td>61.4</td>\n",
       "      <td>0.478</td>\n",
       "    </tr>\n",
       "    <tr>\n",
       "      <th>1564</th>\n",
       "      <td>Madagascar</td>\n",
       "      <td>69.0</td>\n",
       "      <td>0.473</td>\n",
       "    </tr>\n",
       "    <tr>\n",
       "      <th>1565</th>\n",
       "      <td>Madagascar</td>\n",
       "      <td>64.0</td>\n",
       "      <td>0.466</td>\n",
       "    </tr>\n",
       "    <tr>\n",
       "      <th>1566</th>\n",
       "      <td>Madagascar</td>\n",
       "      <td>59.9</td>\n",
       "      <td>0.457</td>\n",
       "    </tr>\n",
       "    <tr>\n",
       "      <th>1567</th>\n",
       "      <td>Madagascar</td>\n",
       "      <td>59.3</td>\n",
       "      <td>0.462</td>\n",
       "    </tr>\n",
       "  </tbody>\n",
       "</table>\n",
       "</div>"
      ],
      "text/plain": [
       "         Country  Life_expectancy  Income_composition_of_resources\n",
       "225      Belarus             72.0                            0.796\n",
       "226      Belarus             71.7                            0.796\n",
       "227      Belarus             71.9                            0.793\n",
       "228      Belarus             72.0                            0.787\n",
       "229      Belarus             73.0                            0.780\n",
       "230      Belarus             70.0                            0.771\n",
       "231      Belarus             70.0                            0.755\n",
       "232      Belarus             69.8                            0.739\n",
       "233      Belarus             68.9                            0.723\n",
       "234      Belarus             68.1                            0.713\n",
       "235      Belarus             68.2                            0.703\n",
       "236      Belarus             67.7                            0.695\n",
       "237      Belarus             67.2                            0.687\n",
       "238      Belarus             67.7                            0.681\n",
       "239      Belarus             68.0                            0.675\n",
       "1187       India             68.0                            0.607\n",
       "1188       India             67.6                            0.599\n",
       "1189       India             67.3                            0.590\n",
       "1190       India             66.8                            0.580\n",
       "1191       India             66.4                            0.569\n",
       "1192       India             66.0                            0.563\n",
       "1193       India             65.5                            0.556\n",
       "1194       India             65.2                            0.546\n",
       "1195       India             64.8                            0.536\n",
       "1196       India             64.4                            0.526\n",
       "1197       India             64.0                            0.518\n",
       "1523   Lithuania             73.4                            0.841\n",
       "1524   Lithuania             73.0                            0.834\n",
       "1525   Lithuania             73.0                            0.830\n",
       "1526   Lithuania             72.8                            0.826\n",
       "1527   Lithuania             72.4                            0.824\n",
       "1528   Lithuania             72.2                            0.825\n",
       "1529   Lithuania             71.1                            0.820\n",
       "1530   Lithuania             72.0                            0.812\n",
       "1531   Lithuania             76.0                            0.807\n",
       "1532   Lithuania             78.0                            0.798\n",
       "1533   Lithuania             71.6                            0.792\n",
       "1534   Lithuania             71.6                            0.780\n",
       "1535   Lithuania             71.4                            0.770\n",
       "1536   Lithuania             71.2                            0.757\n",
       "1537   Lithuania             71.6                            0.745\n",
       "1555  Madagascar             65.1                            0.509\n",
       "1556  Madagascar             64.7                            0.508\n",
       "1557  Madagascar             64.3                            0.506\n",
       "1558  Madagascar             63.8                            0.504\n",
       "1559  Madagascar             63.3                            0.503\n",
       "1560  Madagascar             62.8                            0.500\n",
       "1561  Madagascar             62.3                            0.491\n",
       "1562  Madagascar             61.9                            0.483\n",
       "1563  Madagascar             61.4                            0.478\n",
       "1564  Madagascar             69.0                            0.473\n",
       "1565  Madagascar             64.0                            0.466\n",
       "1566  Madagascar             59.9                            0.457\n",
       "1567  Madagascar             59.3                            0.462"
      ]
     },
     "execution_count": 8,
     "metadata": {},
     "output_type": "execute_result"
    }
   ],
   "source": [
    "import numpy as np\n",
    "\n",
    "df_study = df[df['Country'].isin([\"Belarus\",\"Madagascar\",\"Lithuania\",\"India\"])]\n",
    "df_study = df_study[['Country','Life_expectancy','Income_composition_of_resources']]\n",
    "df_study\n"
   ]
  },
  {
   "cell_type": "markdown",
   "metadata": {},
   "source": [
    "**TO CODE 3.2**\n",
    "\n",
    "Implement a simple least square function and apply it on the previous selected data."
   ]
  },
  {
   "cell_type": "code",
   "execution_count": 9,
   "metadata": {},
   "outputs": [],
   "source": [
    "def getParam(X,Y):\n",
    "    b1= sum((X - X.mean())*(Y -Y.mean()))/sum((X - X.mean())**2)\n",
    "    return {\"b0\":Y.mean()-b1*X.mean(),\"b1\":b1}\n",
    "\n",
    "def LSE(X,Y):\n",
    "    params = getParam(X,Y)\n",
    "    return sum((Y-(params['b0'] +params['b1']*X))**2)\n",
    "def MSE(X,Y):\n",
    "    return LSE(X,Y)/len(X)\n"
   ]
  },
  {
   "cell_type": "code",
   "execution_count": 11,
   "metadata": {},
   "outputs": [
    {
     "name": "stdout",
     "output_type": "stream",
     "text": [
      "MSE: 2.608087145829355\n"
     ]
    }
   ],
   "source": [
    "X = df_study['Income_composition_of_resources']\n",
    "Y = df_study['Life_expectancy']\n",
    "#getParam(df_study['Life_expectancy'],df_study['Income_composition_of_resources'])['b0']\n",
    "print(\"MSE: \"+str(MSE(X,Y)))"
   ]
  },
  {
   "cell_type": "code",
   "execution_count": 12,
   "metadata": {},
   "outputs": [
    {
     "name": "stdout",
     "output_type": "stream",
     "text": [
      "b0:49.34763518833232|b1:28.598226140676907\n"
     ]
    }
   ],
   "source": [
    "#Printing the weight values:\n",
    "param = getParam(X,Y)\n",
    "print(\"b0:\"+str(param['b0'])+\"|b1:\"+str(param['b1']))"
   ]
  },
  {
   "cell_type": "markdown",
   "metadata": {},
   "source": [
    "**TO CODE 3.3**\n",
    "\n",
    "On the same figure, draw the line corresponding to your regression and the data points corres-\n",
    "ponding to df_study"
   ]
  },
  {
   "cell_type": "code",
   "execution_count": 13,
   "metadata": {},
   "outputs": [
    {
     "data": {
      "image/png": "[encoded data removed]",
      "text/plain": [
       "<Figure size 640x480 with 1 Axes>"
      ]
     },
     "metadata": {},
     "output_type": "display_data"
    }
   ],
   "source": [
    "fig,ax = plt.subplots()\n",
    "regression = param['b0']+param['b1']*X.values\n",
    "ax.plot(X, regression,label=str(param['b0'])+\"X*\"+str(param['b1']),color='blue')\n",
    "ax.scatter(X,Y,color='red')\n",
    "ax.set_xlabel('Income')\n",
    "ax.set_ylabel('Life expectancy')\n",
    "plt.show()"
   ]
  },
  {
   "cell_type": "markdown",
   "metadata": {},
   "source": [
    "**TO CODE 3.4**"
   ]
  },
  {
   "cell_type": "code",
   "execution_count": 14,
   "metadata": {},
   "outputs": [],
   "source": [
    "def MSE_derivative(X,Y,B1,B0,variable):\n",
    "    if variable ==1:\n",
    "        return sum(-2*X*(Y-B0-B1*X))/len(X)\n",
    "    else:\n",
    "        return sum(-2*(Y-B0-B1*X))/len(X)\n",
    "\n",
    "def gradDescent(X,Y,w,alpha,iters):\n",
    "\n",
    "    weight =[]\n",
    "    weight.append(w)\n",
    "    for i in range(iters):\n",
    "        w1= weight[i]['w1']-alpha*MSE_derivative(X,Y,weight[i]['w1'],weight[i]['w0'],1)\n",
    "        w0= weight[i]['w0']-alpha*MSE_derivative(X,Y,weight[i]['w1'],weight[i]['w0'],0)\n",
    "        weight.append({'w1':w1,'w0':w0})\n",
    "    return weight,weight[len(weight)-1]\n"
   ]
  },
  {
   "cell_type": "markdown",
   "metadata": {},
   "source": [
    "**TO CODE 3.5**\n",
    "\n",
    "Compute the gradient descend on df_study for 1000 iterations with different values of `alpha`. You\n",
    "may initialize `theta` with `theta_0 = 0` and `theta_1 = 1`"
   ]
  },
  {
   "cell_type": "code",
   "execution_count": 15,
   "metadata": {},
   "outputs": [
    {
     "data": {
      "text/plain": [
       "{'w1': 31.528758535744505, 'w0': 47.38710949400321}"
      ]
     },
     "execution_count": 15,
     "metadata": {},
     "output_type": "execute_result"
    }
   ],
   "source": [
    "gradient,theta = gradDescent(X,Y,{'w1':1,'w0':0},alpha=0.01,iters=1000)\n",
    "theta"
   ]
  },
  {
   "cell_type": "markdown",
   "metadata": {},
   "source": [
    "**TO CODE 3.6**\n",
    "\n",
    "On the same figure, plot the evolution of theta_0 through the iterations for each different values of\n",
    "alpha you chose. Do the same thing for theta_1."
   ]
  },
  {
   "cell_type": "code",
   "execution_count": 16,
   "metadata": {},
   "outputs": [
    {
     "data": {
      "image/png": "[encoded data removed]",
      "text/plain": [
       "<Figure size 640x480 with 1 Axes>"
      ]
     },
     "metadata": {},
     "output_type": "display_data"
    },
    {
     "data": {
      "image/png": "[encoded data removed]",
      "text/plain": [
       "<Figure size 640x480 with 1 Axes>"
      ]
     },
     "metadata": {},
     "output_type": "display_data"
    }
   ],
   "source": [
    "fig2,ax2 = plt.subplots()\n",
    "fig3,ax3 = plt.subplots()\n",
    "x = [i for i in range(0, 1001)]\n",
    "alphas = [0.0001,0.001,0.01,0.1]\n",
    "color = [\"red\",\"blue\",\"yellow\",\"green\"]\n",
    "gradients = []\n",
    "i = 0\n",
    "for alpha in alphas:\n",
    "    gradient,theta = gradDescent(X,Y,{'w1':1,'w0':0},alpha=alpha,iters=1000)\n",
    "    w1 = [item['w1'] for item in gradient]\n",
    "    w0 = [item['w0'] for item in gradient]\n",
    "    ax2.scatter(x,w1,color=color[i])\n",
    "    ax3.scatter(x,w0,color=color[i])\n",
    "    i+=1\n",
    "    ax2.set_xlabel('w1 Iterations')\n",
    "    ax2.set_ylabel('Theta')\n",
    "    ax3.set_xlabel('w0 Iterations')\n",
    "    ax3.set_ylabel('Theta')\n",
    "    \n",
    "    \n",
    "plt.show()\n"
   ]
  },
  {
   "cell_type": "markdown",
   "metadata": {},
   "source": [
    "**Question 7**\n",
    "\n",
    "Discuss on the role of alpha : **The role of alpha is to impose a step. Higher is the alpha higher the final values of the gradient descent increase. We observe that the optimal alpha value for our data is 0.01**"
   ]
  },
  {
   "cell_type": "code",
   "execution_count": 17,
   "metadata": {},
   "outputs": [],
   "source": [
    "from sklearn.metrics import r2_score"
   ]
  },
  {
   "cell_type": "markdown",
   "metadata": {},
   "source": [
    "**TO CODE 3.7**\n",
    "\n",
    "Compute $R^2$ on the regression with df_study"
   ]
  },
  {
   "cell_type": "code",
   "execution_count": 21,
   "metadata": {},
   "outputs": [
    {
     "name": "stdout",
     "output_type": "stream",
     "text": [
      "Score R2: 0.8466322701522812\n"
     ]
    }
   ],
   "source": [
    "weight = [theta['w0'],theta['w1']]\n",
    "print(f\"Score R2: {r2_score(Y, regression, multioutput='uniform_average')}\")\n"
   ]
  },
  {
   "cell_type": "markdown",
   "metadata": {},
   "source": [
    "**QUESTION 8**\n",
    "\n",
    "Is linear regression suited between the two selected variables?\n",
    "\n",
    "**Here we don't have overfitted data. This means that with a score of 0.84 the regression is indeed suited between the two selected variables**\n",
    "\n",
    "## STEP 4: Diagnostic visualization\n",
    "\n",
    "**TO CODE 4.1**\n",
    "\n",
    "Compute the residuals and plot the residuals vs fitted values."
   ]
  },
  {
   "cell_type": "code",
   "execution_count": 30,
   "metadata": {},
   "outputs": [
    {
     "data": {
      "image/png": "[encoded data removed]",
      "text/plain": [
       "<Figure size 640x480 with 1 Axes>"
      ]
     },
     "metadata": {},
     "output_type": "display_data"
    }
   ],
   "source": [
    "#X\n",
    "#regression is the fitted values\n",
    "residuals = Y-regression\n",
    "fig3,ax3 = plt.subplots()\n",
    "ax3.scatter(regression,residuals,color='red')\n",
    "ax3.axhline(y=0,color=\"green\",linestyle='-')\n",
    "ax3.set_xlabel('Life expectancy')\n",
    "ax3.set_ylabel('Residuals')\n",
    "plt.show()\n",
    "\n"
   ]
  },
  {
   "cell_type": "markdown",
   "metadata": {},
   "source": [
    "**Question 10**\n",
    "\n",
    "What can you conclude about this plot ?\n",
    "\n",
    "**We can conclude with this plot that we can average the error of the fitted values to (+-)2**\n",
    "\n",
    "**For a life expectancy this is more or less precise but can still be more efficient**\n",
    "\n",
    "**TO CODE 4.2**\n",
    "\n",
    "Also compute the Scale Location plot\n"
   ]
  },
  {
   "cell_type": "code",
   "execution_count": 31,
   "metadata": {},
   "outputs": [
    {
     "data": {
      "image/png": "[encoded data removed]",
      "text/plain": [
       "<Figure size 640x480 with 1 Axes>"
      ]
     },
     "metadata": {},
     "output_type": "display_data"
    }
   ],
   "source": [
    "# np.std compute the standard deviation of the parameter\n",
    "standard_residuals = residuals/np.std(residuals)\n",
    "sqrt_abs_std_residuals = np.sqrt(np.abs(standard_residuals))\n",
    "fig4,ax4 = plt.subplots()\n",
    "ax4.scatter(regression,sqrt_abs_std_residuals,color='green')\n",
    "ax4.set_xlabel('Fitted values : Life expectancy')\n",
    "ax4.set_ylabel('Square root of the absolute standardized residuals')\n",
    "plt.show()\n"
   ]
  },
  {
   "cell_type": "markdown",
   "metadata": {},
   "source": [
    "**Question 11**\n",
    "\n",
    "What can you conclude about this plot ?\n",
    "\n",
    "**With this plot, there is no visible pattern. That means that the assumption of constant variance is met (homoscedasticity).In this case, the variance of the errors is roughly constant across the range of predicted values.**\n",
    "\n",
    "**This plot reinforce the idea of a good regression model**\n",
    "\n",
    "**TO CODE 4.3**\n",
    "\n",
    "Compute now the Cook's distance for our data. You can compute it by yourself or use any library you can find.\n"
   ]
  },
  {
   "cell_type": "markdown",
   "metadata": {},
   "source": [
    "# Useful information about the cook's distance : Source ChatGPT\n",
    "\n",
    "Cook's distance is a measure used in regression analysis to identify influential data points that have a significant impact on the regression model's parameters, particularly when it comes to outliers. It helps in assessing the influence of individual data points on the fitted regression model. Cook's distance is defined for each observation in a dataset and can be used to detect data points that, if removed, would significantly alter the estimated coefficients of the regression model.\n",
    "\n",
    "Cook's distance for a data point i is computed as follows:\n",
    "\n",
    "Di=∑j=1n(Yj−Y^j)2p×MSEDi​=p×MSE∑j=1n​(Yj​−Y^j​)2​\n",
    "\n",
    "Where:\n",
    "\n",
    "    DiDi​ is Cook's distance for the ith observation.\n",
    "    YjYj​ is the jth observed response value.\n",
    "    Y^jY^j​ is the jth predicted (fitted) value from the regression model when the ith observation is included.\n",
    "    nn is the total number of observations.\n",
    "    pp is the number of estimated regression coefficients (including the intercept).\n",
    "    MSEMSE is the mean squared error, which is an estimate of the variance of the model's residuals.\n",
    "\n",
    "Interpreting Cook's distance:\n",
    "\n",
    "    A small Cook's distance indicates that the observation does not have much influence on the model.\n",
    "    A large Cook's distance suggests that removing the observation would significantly change the regression coefficients.\n",
    "\n",
    "In practice, there isn't a strict threshold value to determine when a Cook's distance is \"large\" because it depends on the context and goals of the analysis. However, a common rule of thumb is that a Cook's distance greater than 4/n (where n is the number of data points) can be considered relatively large and may warrant further investigation. Observations with large Cook's distances are often referred to as \"influential points\" and should be examined to understand their impact on the model and whether they are legitimate outliers or errors in the data.\n",
    "\n",
    "Cook's distance is a useful tool for identifying potential issues with specific data points that might affect the reliability and validity of a regression model. It can be used in conjunction with other diagnostic techniques to assess the quality of the regression analysis.\n",
    "\n",
    "\n",
    "**for a better overview about the cook's distance and the scale location plot**\n",
    "\n",
    "https://chat.openai.com/share/1d6c3706-4379-4ebc-bc77-3d8476eb09f9\n",
    "\n",
    "**TO DO 4.1** \n",
    "\n",
    "We are now adding multiple variable in our regression problem. Run the following cell in order to add multiple variables to your model : \n"
   ]
  },
  {
   "cell_type": "code",
   "execution_count": 32,
   "metadata": {},
   "outputs": [],
   "source": [
    "from sklearn.preprocessing import scale\n",
    "from sklearn.model_selection import train_test_split\n",
    "from sklearn.linear_model import Ridge, Lasso\n",
    "from sklearn.metrics import mean_squared_error\n",
    "\n",
    "df_study = df[(df.Country == \"Belarus\") | (df.Country == \"Madagascar\") | (df.Country == \"India\") | (df.Country == \"Lithuania\")]\n",
    "y = df_study.Life_expectancy\n",
    "X = df_study[['Adult_mortality', 'Alcohol', 'Total_expenditure', 'Income_composition_of_resources', 'Schooling', \"HIV_AIDS\"]].to_numpy(dtype='float64')"
   ]
  },
  {
   "cell_type": "markdown",
   "metadata": {},
   "source": [
    "**TO CODE 4.4**\n",
    "\n",
    "Dealing with too many variables can sometimes be counter-productive and it can be more interesting to remove some features. One way to evaluate the importance of each variable is to compute the f_test whose function is named f_regression in sklearn. "
   ]
  },
  {
   "cell_type": "code",
   "execution_count": 35,
   "metadata": {},
   "outputs": [],
   "source": [
    "from sklearn.feature_selection import f_regression\n",
    "from sklearn.feature_selection import SelectKBest\n",
    "\n",
    "# X is your feature matrix, and y is your target variable\n",
    "f_values, p_values = f_regression(X, y)\n"
   ]
  },
  {
   "cell_type": "code",
   "execution_count": 39,
   "metadata": {},
   "outputs": [
    {
     "name": "stdout",
     "output_type": "stream",
     "text": [
      "('Adult_mortality', 'Total_expenditure', 'HIV_AIDS', 'Alcohol', 'Schooling', 'Income_composition_of_resources')\n"
     ]
    }
   ],
   "source": [
    "features = ['Adult_mortality', 'Alcohol', 'Total_expenditure', 'Income_composition_of_resources', 'Schooling', \"HIV_AIDS\"]\n",
    "f_values\n",
    "\n",
    "combined_data = list(zip(features, f_values))\n",
    "\n",
    "# Sort the combined data by values in descending order\n",
    "sorted_data = sorted(combined_data, key=lambda x: x[1], reverse=False)\n",
    "sorted_features, sorted_values = zip(*sorted_data)\n",
    "print(sorted_features)"
   ]
  },
  {
   "cell_type": "markdown",
   "metadata": {},
   "source": [
    "The F-statistic reflects the strength of the linear relationship, while the p-value indicates the statistical significance of this relationship."
   ]
  },
  {
   "cell_type": "markdown",
   "metadata": {},
   "source": [
    "**QUESTION 13**\n",
    "\n",
    "According to the f_test, rank each variable from the least to the most promising. Compare it with the correlation of your subset."
   ]
  },
  {
   "cell_type": "markdown",
   "metadata": {},
   "source": [
    "According to the f_test, here is the ranking from the least to the most promising :\n",
    "**('Adult_mortality', 'Total_expenditure', 'HIV_AIDS', 'Alcohol', 'Schooling', 'Income_composition_of_resources')**"
   ]
  },
  {
   "cell_type": "code",
   "execution_count": 43,
   "metadata": {},
   "outputs": [
    {
     "name": "stdout",
     "output_type": "stream",
     "text": [
      "correlation score\n",
      "Adult_mortality: -0.7025230623069735,\n",
      "Total_expenditure: 0.17471764064230505,\n",
      "HIV_AIDS: -0.5922362925926357,\n",
      "Alcohol: 0.402718321727354,\n",
      "Schooling: 0.7276300323211043,\n",
      "Income_composition_of_resources: 0.7210825929172864,\n"
     ]
    }
   ],
   "source": [
    "print(\"correlation score\")\n",
    "for i in range(len(sorted_features)):\n",
    "    print(f\"{sorted_features[i]}: {correlation[sorted_features[i]]},\")"
   ]
  },
  {
   "cell_type": "markdown",
   "metadata": {},
   "source": [
    "We can see that the results are not the same. For example Adult_mortality using f_test seems to be the less promising while it's one of the most promising using the correlation method. The best method should be the scikit module function because people worked on that module for it to be precise."
   ]
  }
 ],
 "metadata": {
  "kernelspec": {
   "display_name": "Python 3",
   "language": "python",
   "name": "python3"
  },
  "language_info": {
   "codemirror_mode": {
    "name": "ipython",
    "version": 3
   },
   "file_extension": ".py",
   "mimetype": "text/x-python",
   "name": "python",
   "nbconvert_exporter": "python",
   "pygments_lexer": "ipython3",
   "version": "3.8.10"
  },
  "orig_nbformat": 4
 },
 "nbformat": 4,
 "nbformat_minor": 2
}
